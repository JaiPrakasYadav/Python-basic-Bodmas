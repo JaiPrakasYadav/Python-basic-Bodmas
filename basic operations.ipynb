{
 "cells": [
  {
   "cell_type": "markdown",
   "id": "acbe53a0-721d-4003-91f2-f43329ad304c",
   "metadata": {},
   "source": [
    "#TASK 1"
   ]
  },
  {
   "cell_type": "code",
   "execution_count": 6,
   "id": "4bfb75e1-97a7-4e49-8331-ecc8e76ee15e",
   "metadata": {},
   "outputs": [
    {
     "name": "stdin",
     "output_type": "stream",
     "text": [
      "a=  5\n",
      "b=  10\n"
     ]
    },
    {
     "name": "stdout",
     "output_type": "stream",
     "text": [
      "Addition (a+b) =  15\n",
      "Substraction (a-b) =  -5\n",
      "Multiplication (a*b) =  50\n",
      "Division (a/b) =  0.5\n"
     ]
    }
   ],
   "source": [
    "a=int(input('a= ',))\n",
    "b=int(input('b= ',))\n",
    "c=a+b\n",
    "d=a-b\n",
    "print(\"Addition (a+b) = \",c)\n",
    "print(\"Substraction (a-b) = \",d)\n",
    "print(\"Multiplication (a*b) = \",a*b)\n",
    "print(\"Division (a/b) = \",a/b)\n"
   ]
  },
  {
   "cell_type": "markdown",
   "id": "cf0c18a9-098e-4648-b549-e3821c089cec",
   "metadata": {},
   "source": [
    "#TASK2 "
   ]
  },
  {
   "cell_type": "code",
   "execution_count": 17,
   "id": "f8af799e-5459-44bf-b97d-bb9b79a82de0",
   "metadata": {},
   "outputs": [
    {
     "name": "stdin",
     "output_type": "stream",
     "text": [
      "Enter your first name :  John\n",
      "Enter your last name :  Doe\n"
     ]
    },
    {
     "name": "stdout",
     "output_type": "stream",
     "text": [
      "Hello JohnDoe ! Welcome to the python program\n"
     ]
    }
   ],
   "source": [
    "first_name= input(\"Enter your first name : \")\n",
    "last_name= input(\"Enter your last name : \")\n",
    "print(\"Hello\",first_name + last_name, \"! Welcome to the python program\")"
   ]
  },
  {
   "cell_type": "code",
   "execution_count": null,
   "id": "cc85759c-358f-492e-830a-305d742c9f7e",
   "metadata": {},
   "outputs": [],
   "source": []
  }
 ],
 "metadata": {
  "kernelspec": {
   "display_name": "Python 3 (ipykernel)",
   "language": "python",
   "name": "python3"
  },
  "language_info": {
   "codemirror_mode": {
    "name": "ipython",
    "version": 3
   },
   "file_extension": ".py",
   "mimetype": "text/x-python",
   "name": "python",
   "nbconvert_exporter": "python",
   "pygments_lexer": "ipython3",
   "version": "3.11.13"
  }
 },
 "nbformat": 4,
 "nbformat_minor": 5
}
