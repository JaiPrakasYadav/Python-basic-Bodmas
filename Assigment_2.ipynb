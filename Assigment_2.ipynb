{
 "cells": [
  {
   "cell_type": "markdown",
   "id": "005dbf4c-51fc-4f40-b46a-f328e36d6f21",
   "metadata": {},
   "source": [
    "Task 1 : finding wheather the no. is even or odd"
   ]
  },
  {
   "cell_type": "code",
   "execution_count": 9,
   "id": "2eb75816-259a-4f12-8802-1eb2ef44c26f",
   "metadata": {},
   "outputs": [
    {
     "name": "stdin",
     "output_type": "stream",
     "text": [
      "Enter a number : 5678\n"
     ]
    },
    {
     "name": "stdout",
     "output_type": "stream",
     "text": [
      "5678 is an even number\n"
     ]
    }
   ],
   "source": [
    "n=int(input(\"Enter a number :\"))\n",
    "if n%2==0:\n",
    "    print(n,\"is an even number\")\n",
    "else:\n",
    "    print(n,\"is a odd number\")"
   ]
  },
  {
   "cell_type": "markdown",
   "id": "033eb979-e656-4e28-a78b-861723d815a8",
   "metadata": {},
   "source": [
    "Task 2 : using loop find the sum of 1 to 50 numbers - for loop"
   ]
  },
  {
   "cell_type": "code",
   "execution_count": 17,
   "id": "74dcb7ae-0d8a-47c9-892e-c7c80c64649c",
   "metadata": {},
   "outputs": [
    {
     "name": "stdout",
     "output_type": "stream",
     "text": [
      "The sum of number from 1 to 50 is  1275\n"
     ]
    }
   ],
   "source": [
    "sum=0\n",
    "for i in range(1,51):\n",
    "    sum=sum+i\n",
    "    #print(\"Iteration\",i, \" & sum is :\",sum) \n",
    "print(\"The sum of number from 1 to 50 is \",sum)"
   ]
  },
  {
   "cell_type": "code",
   "execution_count": null,
   "id": "01ec0c57-abd4-4c2b-8fc0-c367c058f413",
   "metadata": {},
   "outputs": [],
   "source": [
    "Task 2 : using loop find the sum of 1 to 50 numbers - while loop"
   ]
  },
  {
   "cell_type": "code",
   "execution_count": 24,
   "id": "8194dfa0-5cf5-4576-b254-96fce1bee72f",
   "metadata": {},
   "outputs": [
    {
     "name": "stdout",
     "output_type": "stream",
     "text": [
      "The sum of number from 1 to 50 is  1275\n"
     ]
    }
   ],
   "source": [
    "sum=0\n",
    "i=1\n",
    "while i<51:\n",
    "    sum=sum+i\n",
    "    #print(\"Iteration\",i, \" & sum is :\",sum) \n",
    "    i+=1\n",
    "print(\"The sum of number from 1 to 50 is \",sum)"
   ]
  },
  {
   "cell_type": "code",
   "execution_count": null,
   "id": "804f5ef4-1ad0-48e1-b6c8-4c0a9ec76ab2",
   "metadata": {},
   "outputs": [],
   "source": []
  }
 ],
 "metadata": {
  "kernelspec": {
   "display_name": "Python 3 (ipykernel)",
   "language": "python",
   "name": "python3"
  },
  "language_info": {
   "codemirror_mode": {
    "name": "ipython",
    "version": 3
   },
   "file_extension": ".py",
   "mimetype": "text/x-python",
   "name": "python",
   "nbconvert_exporter": "python",
   "pygments_lexer": "ipython3",
   "version": "3.11.13"
  }
 },
 "nbformat": 4,
 "nbformat_minor": 5
}
